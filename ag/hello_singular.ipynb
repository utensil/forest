{
 "cells": [
  {
   "cell_type": "code",
   "execution_count": 1,
   "id": "6bfaa428-ce58-411e-875b-df1aa9f1ddb5",
   "metadata": {},
   "outputs": [
    {
     "data": {
      "text/plain": [
       "// ** loaded /opt/homebrew/bin/../Cellar/singular/4.4.0p3/bin/../share/singular/LIB/surf_jupyter.lib (4.1.2.0,Feb_2019)\n",
       "   skipping text from `(` error at token `)`\n"
      ]
     },
     "execution_count": 1,
     "metadata": {},
     "output_type": "execute_result"
    }
   ],
   "source": [
    "LIB \"surf_jupyter.lib\""
   ]
  },
  {
   "cell_type": "code",
   "execution_count": 2,
   "id": "ca7d885f-0fc7-4cf8-b838-a9012ad33247",
   "metadata": {},
   "outputs": [],
   "source": [
    "ring r=real,(x,y),lp;"
   ]
  },
  {
   "cell_type": "code",
   "execution_count": 3,
   "id": "4f539a8e-99e9-4d10-973a-b2a948c59455",
   "metadata": {},
   "outputs": [],
   "source": [
    "poly p=y^2-(x+1)*(x-1)*(x-2);"
   ]
  },
  {
   "cell_type": "code",
   "execution_count": 4,
   "id": "591ee101-1c70-49c2-9b2e-6d15a6f38a45",
   "metadata": {},
   "outputs": [
    {
     "data": {
      "text/plain": [
       "-x3+(2.000e+00)*x2+x+y2-(2.000e+00)\n"
      ]
     },
     "execution_count": 4,
     "metadata": {},
     "output_type": "execute_result"
    }
   ],
   "source": [
    "p;"
   ]
  },
  {
   "cell_type": "code",
   "execution_count": 5,
   "id": "230c7690-0716-4c04-b942-2c4dc276cd7a",
   "metadata": {},
   "outputs": [],
   "source": [
    "plot_jupyter(p);"
   ]
  },
  {
   "cell_type": "code",
   "execution_count": null,
   "id": "d34eb63f-f6dc-44b3-95b0-cd7d011df7ad",
   "metadata": {},
   "outputs": [],
   "source": []
  }
 ],
 "metadata": {
  "kernelspec": {
   "display_name": "Singular",
   "language": "singular",
   "name": "singular"
  },
  "language_info": {
   "codemirror_mode": "singular",
   "file_extension": ".singular",
   "mimetype": "text/x-singular",
   "name": "Singular"
  }
 },
 "nbformat": 4,
 "nbformat_minor": 5
}
