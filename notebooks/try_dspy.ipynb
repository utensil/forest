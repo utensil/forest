{
 "cells": [
  {
   "cell_type": "code",
   "execution_count": null,
   "id": "setup",
   "metadata": {
    "marimo": {
     "name": "setup"
    }
   },
   "outputs": [
    {
     "name": "stderr",
     "output_type": "stream",
     "text": [
      "Audited 1 package in 6ms\n",
      "Audited 1 package in 5ms\n"
     ]
    },
    {
     "name": "stderr",
     "output_type": "stream",
     "text": [
      "Resolved 1 package in 1.06s\n",
      "Audited 1 package in 0.05ms\n"
     ]
    }
   ],
   "source": [
    "# Initialization code that runs before all other cells\n",
    "import subprocess\n",
    "subprocess.run([\"uv\", \"pip\", \"install\", \"dspy\"])\n",
    "subprocess.run([\"uv\", \"pip\", \"install\", \"funnydspy\"])\n",
    "subprocess.run([\"uv\", \"pip\", \"install\", \"git+https://github.com/hendrycks/math.git\"])"
   ]
  },
  {
   "cell_type": "code",
   "execution_count": null,
   "id": "Hbol",
   "metadata": {},
   "outputs": [],
   "source": [
    "import marimo as mo"
   ]
  },
  {
   "cell_type": "code",
   "execution_count": null,
   "id": "MJUe",
   "metadata": {},
   "outputs": [],
   "source": [
    "import funnydspy as fd\n",
    "import dspy\n",
    "from dataclasses import dataclass\n",
    "from typing import List, NamedTuple\n"
   ]
  },
  {
   "cell_type": "code",
   "execution_count": null,
   "id": "vblA",
   "metadata": {},
   "outputs": [],
   "source": [
    "# Configure your language model, using environment variables OPENAI_API_BASE and OPENAI_API_KEY\n",
    "import os\n",
    "\n",
    "dspy.configure(lm=dspy.LM(f\"openai/{os.environ['OPENAI_API_MODEL']}\"))\n",
    "\n",
    "@fd.ChainOfThought\n",
    "def rag(query: str, context: str) -> str:\n",
    "    return answer\n",
    "\n",
    "# Get Python objects directly\n",
    "answer = rag(\"What is the capital of France?\", \"France is a country in Europe.\")\n",
    "# → \"The capital of France is Paris.\"\n",
    "\n",
    "# Get DSPy Prediction for optimization\n",
    "pred1 = rag(\n",
    "    \"What is the capital of France?\",\n",
    "    \"France is a country in Europe.\",\n",
    "    _prediction=True,\n",
    ")\n",
    "# → dspy.Prediction(reasoning=\"...\", answer=\"The capital of France is Paris.\")"
   ]
  },
  {
   "cell_type": "code",
   "execution_count": null,
   "id": "bkHC",
   "metadata": {},
   "outputs": [
    {
     "data": {
      "text/html": [
       "<pre style='font-size: 12px'>&#x27;The capital of France is Paris.&#x27;</pre>"
      ]
     },
     "metadata": {},
     "output_type": "display_data"
    }
   ],
   "source": [
    "answer"
   ]
  },
  {
   "cell_type": "code",
   "execution_count": null,
   "id": "lEQa",
   "metadata": {},
   "outputs": [
    {
     "data": {
      "text/html": [
       "<pre style='font-size: 12px'>Prediction(\n",
       "    reasoning=&#x27;The query asks for the capital of France. The context provided states that France is a country in Europe, but does not directly answer the question. However, general knowledge tells us that the capital of France is Paris.&#x27;,\n",
       "    answer=&#x27;The capital of France is Paris.&#x27;\n",
       ")</pre>"
      ]
     },
     "metadata": {},
     "output_type": "display_data"
    }
   ],
   "source": [
    "pred1"
   ]
  },
  {
   "cell_type": "code",
   "execution_count": null,
   "id": "PKri",
   "metadata": {},
   "outputs": [],
   "source": [
    "@fd.ChainOfThought\n",
    "def analyze(numbers: list[float], threshold: float) -> tuple[float, list[float]]:\n",
    "    \"\"\"Analyze numbers and return statistics.\"\"\"\n",
    "\n",
    "    class Stats(NamedTuple):\n",
    "        mean: float  # The average of the numbers\n",
    "        above: list[float]  # Numbers above the threshold\n",
    "\n",
    "    return Stats\n",
    "\n",
    "# Get Python objects directly\n",
    "mean_val, above_vals = analyze([1, 5, 3, 8, 2], 4.0)\n",
    "# → (4.0, [5.0, 8.0])\n",
    "\n",
    "# Get DSPy Prediction for optimization\n",
    "pred2 = analyze([1, 5, 3, 8, 2], 4.0, _prediction=True)\n",
    "# → dspy.Prediction(reasoning=\"...\", mean=4.0, above=[5.0, 8.0])"
   ]
  },
  {
   "cell_type": "code",
   "execution_count": null,
   "id": "Xref",
   "metadata": {},
   "outputs": [
    {
     "data": {
      "text/html": [
       "<pre style='font-size: 12px'>Prediction(\n",
       "    reasoning=&#x27;First, I converted the input strings to floats. Then, I calculated the mean by summing all the numbers and dividing by the count. Next, I filtered the numbers to find those above the threshold of 4.0.&#x27;,\n",
       "    mean=3.8,\n",
       "    above=[5.0, 8.0]\n",
       ")</pre>"
      ]
     },
     "metadata": {},
     "output_type": "display_data"
    }
   ],
   "source": [
    "pred2"
   ]
  },
  {
   "cell_type": "code",
   "execution_count": null,
   "id": "SFPL",
   "metadata": {},
   "outputs": [],
   "source": [
    "@fd.ChainOfThought\n",
    "def summarize_text(text: str) -> tuple[str, int, List[str]]:\n",
    "    \"\"\"Summarize text and extract key information.\"\"\"\n",
    "    summary = \"A concise summary of the text\"\n",
    "    word_count = \"Total number of words\"\n",
    "    key_points = \"List of main points\"\n",
    "    return summary, word_count, key_points\n",
    "\n",
    "summary, count, points = (\n",
    "    summarize_text(\"\"\"Modules help you describe AI behavior as code, not strings.\n",
    "To build reliable AI systems, you must iterate fast. But maintaining prompts makes that hard: it forces you to tinker with strings or data every time you change your LM, metrics, or pipeline. Having built over a dozen best-in-class compound LM systems since 2020, we learned this the hard way—and so built DSPy to decouple AI system design from messy incidental choices about specific LMs or prompting strategies.\"\"\")\n",
    ")"
   ]
  },
  {
   "cell_type": "code",
   "execution_count": null,
   "id": "BYtC",
   "metadata": {},
   "outputs": [
    {
     "name": "stdout",
     "output_type": "stream",
     "text": [
      "The text explains that maintaining prompts in AI systems is inefficient and introduces DSPy, a tool designed to separate AI system design from specific LM or prompting choices, enabling faster iteration and more reliable systems.\n"
     ]
    }
   ],
   "source": [
    "print(summary)"
   ]
  },
  {
   "cell_type": "code",
   "execution_count": null,
   "id": "RGSE",
   "metadata": {},
   "outputs": [],
   "source": [
    "from dspy.datasets import MATH\n",
    "\n",
    "dataset = MATH(subset=\"algebra\")"
   ]
  },
  {
   "cell_type": "code",
   "execution_count": null,
   "id": "Kclp",
   "metadata": {},
   "outputs": [],
   "source": [
    "@fd.Predict\n",
    "def analyze_data(question: str) -> str:\n",
    "    \"\"\"Work on the math problem and give an answer\"\"\"\n",
    "    answer = \"the answer to the math problem\"\n",
    "    return answer\n"
   ]
  },
  {
   "cell_type": "code",
   "execution_count": null,
   "id": "emfo",
   "metadata": {},
   "outputs": [
    {
     "data": {
      "text/html": [
       "<pre style='font-size: 12px'>Example({&#x27;question&#x27;: &quot;The doctor has told Cal O&#x27;Ree that during his ten weeks of working out at the gym, he can expect each week&#x27;s weight loss to be $1\\\\%$ of his weight at the end of the previous week. His weight at the beginning of the workouts is $244$ pounds. How many pounds does he expect to weigh at the end of the ten weeks? Express your answer to the nearest whole number.&quot;, &#x27;reasoning&#x27;: &#x27;Each week, his weight becomes $.99$ times that of the previous week. Therefore, after 10 weeks, his weight is $244 \\\\times (.99)^{10} \\\\approx 220.6$, so the answer is $\\\\boxed{221}$.&#x27;, &#x27;answer&#x27;: &#x27;221&#x27;}) (input_keys={&#x27;question&#x27;})</pre>"
      ]
     },
     "metadata": {},
     "output_type": "display_data"
    }
   ],
   "source": [
    "dataset.train[0]"
   ]
  },
  {
   "cell_type": "code",
   "execution_count": null,
   "id": "Hstk",
   "metadata": {},
   "outputs": [
    {
     "data": {
      "application/json": "[\"text/plain:Example({'question': 'What is the smallest two-digit positive integer such that the product of its two digits is one-half the integer?', 'reasoning': 'Denote our number as $10a+b,$ where $a$ and $b$ represent the tens and units digit, respectively. It follows that $2ab=10a+b,$ or  \\\\\\\\[2a(b-5)-(b-5)=5\\\\\\\\] \\\\\\\\[(2a-1)(b-5)=5.\\\\\\\\] We start by minimizing $a.$ If $2a-1=1$ and $b-5=5,$ $(a,b)=(1,10),$ which does not work because $b$ cannot exceed 9. Trying the second case, $2a-1=5$ and $b-5=1,$ leaving us with $(a,b)=(3,6).$ Thus, the smallest positive integer meeting the problem conditions is $\\\\\\\\boxed{36}.$', 'answer': '36'}) (input_keys={'question'})\", \"text/plain:Example({'question': 'What is the  sum of the reciprocals of the roots of the equation $\\\\n\\\\\\\\frac{2003}{2004}x + 1 + \\\\\\\\frac{1}{x} = 0?\\\\n$', 'reasoning': 'Let $a = 2003/2004$. The given equation is equivalent to \\\\\\\\[\\\\na x^2 + x + 1 = 0.\\\\n\\\\\\\\] If the roots of this equation are denoted $r$ and $s$, then \\\\\\\\[\\\\nrs = \\\\\\\\frac{1}{a}\\\\\\\\quad\\\\\\\\text{and}\\\\\\\\quad r + s = - \\\\\\\\frac{1}{a},\\\\n\\\\\\\\] so \\\\\\\\[\\\\n\\\\\\\\frac{1}{r} + \\\\\\\\frac{1}{s} = \\\\\\\\frac{r+s}{rs} = \\\\\\\\boxed{-1}.\\\\n\\\\\\\\]', 'answer': '-1'}) (input_keys={'question'})\", \"text/plain:Example({'question': 'If $|4x+2|=10$ and $x<0$, what is the value of $x$?', 'reasoning': 'The absolute value of a number equals 10 if the number is either 10 or $-10$.  Setting $4x+2=10$ and $4x+2=-10$, we find solutions of $x=2$ and $x=-3$.  Only the solution $x=\\\\\\\\boxed{-3}$ satisfies $x<0$.', 'answer': '-3'}) (input_keys={'question'})\"]"
     },
     "metadata": {},
     "output_type": "display_data"
    }
   ],
   "source": [
    "dataset.train[10:13]"
   ]
  },
  {
   "cell_type": "code",
   "execution_count": null,
   "id": "nWHF",
   "metadata": {},
   "outputs": [
    {
     "name": "stderr",
     "output_type": "stream",
     "text": [
      "2025/06/29 21:38:24 INFO dspy.teleprompt.simba: Starting batch 1 of 1.\n",
      "2025/06/29 21:38:24 INFO dspy.teleprompt.simba: Sampling program trajectories on 4 examples x 4 samples.\n"
     ]
    },
    {
     "name": "stdout",
     "output_type": "stream",
     "text": [
      "\r",
      "  0%|                                                                                                                                                  | 0/16 [00:00<?, ?it/s]\r",
      "Processed 1 / 16 examples:   0%|                                                                                                                       | 0/16 [00:00<?, ?it/s]\r",
      "Processed 2 / 16 examples:   6%|██████▉                                                                                                       | 1/16 [00:00<00:00, 236.47it/s]\r",
      "Processed 3 / 16 examples:  12%|█████████████▊                                                                                                | 2/16 [00:00<00:00, 337.39it/s]\r",
      "Processed 4 / 16 examples:  19%|████████████████████▋                                                                                         | 3/16 [00:00<00:00, 500.02it/s]"
     ]
    },
    {
     "name": "stdout",
     "output_type": "stream",
     "text": [
      "\r",
      "Processed 5 / 16 examples:  25%|███████████████████████████▌                                                                                  | 4/16 [00:00<00:00, 409.26it/s]\r",
      "Processed 6 / 16 examples:  31%|██████████████████████████████████▍                                                                           | 5/16 [00:00<00:00, 466.65it/s]\r",
      "Processed 7 / 16 examples:  38%|█████████████████████████████████████████▎                                                                    | 6/16 [00:00<00:00, 535.58it/s]\r",
      "Processed 8 / 16 examples:  44%|████████████████████████████████████████████████▏                                                             | 7/16 [00:00<00:00, 582.75it/s]\r",
      "Processed 9 / 16 examples:  50%|███████████████████████████████████████████████████████                                                       | 8/16 [00:00<00:00, 640.73it/s]\r",
      "Processed 10 / 16 examples:  56%|█████████████████████████████████████████████████████████████▎                                               | 9/16 [00:00<00:00, 633.99it/s]\r",
      "Processed 11 / 16 examples:  62%|███████████████████████████████████████████████████████████████████▌                                        | 10/16 [00:00<00:00, 628.38it/s]\r",
      "Processed 12 / 16 examples:  69%|██████████████████████████████████████████████████████████████████████████▎                                 | 11/16 [00:00<00:00, 668.45it/s]\r",
      "Processed 13 / 16 examples:  75%|█████████████████████████████████████████████████████████████████████████████████                           | 12/16 [00:00<00:00, 709.15it/s]\r",
      "Processed 14 / 16 examples:  81%|███████████████████████████████████████████████████████████████████████████████████████▊                    | 13/16 [00:00<00:00, 753.55it/s]\r",
      "Processed 15 / 16 examples:  88%|██████████████████████████████████████████████████████████████████████████████████████████████▌             | 14/16 [00:00<00:00, 800.46it/s]\r",
      "Processed 16 / 16 examples:  94%|█████████████████████████████████████████████████████████████████████████████████████████████████████▎      | 15/16 [00:00<00:00, 849.29it/s]\r",
      "Processed 16 / 16 examples: 100%|████████████████████████████████████████████████████████████████████████████████████████████████████████████| 16/16 [00:00<00:00, 902.53it/s]\n"
     ]
    },
    {
     "name": "stderr",
     "output_type": "stream",
     "text": [
      "2025/06/29 21:38:24 INFO dspy.teleprompt.simba: Batch 1: Baseline mini-batch score: 0.5\n",
      "\n",
      "2025/06/29 21:38:24 INFO dspy.teleprompt.simba: Batch 1: Processing bucket #1, with max score 1.0, max-to-min gap 0.0, and max-to-avg gap 0.0.\n",
      "2025/06/29 21:38:24 INFO dspy.teleprompt.simba: Batch 1: Invoking strategy: append_a_rule\n"
     ]
    },
    {
     "name": "stderr",
     "output_type": "stream",
     "text": [
      "2025/06/29 21:38:24 INFO dspy.teleprompt.simba_utils: Advice for self: When receiving a math problem involving absolute values and inequalities like '$|ax+b|=c$ and $x<d$', you should: 1) Solve both equations $ax+b=c$ and $ax+b=-c$, 2) Check which solution satisfies the inequality $x<d$, and 3) Always return the correct solution that meets all conditions. Make sure to always produce an output, even if you need to show your reasoning steps to arrive at the answer.\n",
      "2025/06/29 21:38:24 INFO dspy.teleprompt.simba: \n",
      "\n",
      "2025/06/29 21:38:24 INFO dspy.teleprompt.simba: Batch 1: Processing bucket #2, with max score 1.0, max-to-min gap 0.0, and max-to-avg gap 0.0.\n",
      "2025/06/29 21:38:24 INFO dspy.teleprompt.simba: Batch 1: Invoking strategy: append_a_demo_\n",
      "2025/06/29 21:38:24 INFO dspy.teleprompt.simba_utils: Added 1 demos (one each) across all predictors.\n",
      "2025/06/29 21:38:24 INFO dspy.teleprompt.simba: \n",
      "\n",
      "2025/06/29 21:38:24 INFO dspy.teleprompt.simba: Batch 1: Processing bucket #3, with max score 0.0, max-to-min gap 0.0, and max-to-avg gap 0.0.\n",
      "2025/06/29 21:38:24 INFO dspy.teleprompt.simba: Batch 1: Invoking strategy: append_a_rule\n"
     ]
    },
    {
     "name": "stderr",
     "output_type": "stream",
     "text": [
      "2025/06/29 21:38:37 INFO dspy.teleprompt.simba_utils: Advice for self: When given a question about the sum of the reciprocals of the roots of an equation, first rewrite the equation in the standard quadratic form \\(ax^2 + bx + c = 0\\). Then, use Vieta's formulas to find the sum \\(r + s = -b/a\\) and product \\(rs = c/a\\) of the roots. Finally, compute the sum of the reciprocals as \\((r + s)/(rs)\\). Avoid skipping steps or misapplying algebraic transformations, as this can lead to incorrect answers.\n",
      "2025/06/29 21:38:37 INFO dspy.teleprompt.simba: \n",
      "\n",
      "2025/06/29 21:38:37 INFO dspy.teleprompt.simba: Batch 1: Processing bucket #4, with max score 0.0, max-to-min gap 0.0, and max-to-avg gap 0.0.\n",
      "2025/06/29 21:38:37 INFO dspy.teleprompt.simba: Batch 1: Invoking strategy: append_a_demo_\n",
      "2025/06/29 21:38:37 INFO dspy.teleprompt.simba_utils: Added 1 demos (one each) across all predictors.\n",
      "2025/06/29 21:38:37 INFO dspy.teleprompt.simba: \n",
      "\n",
      "2025/06/29 21:38:37 INFO dspy.teleprompt.simba: Batch 1: Evaluating 4 programs on 4 examples.\n"
     ]
    },
    {
     "name": "stdout",
     "output_type": "stream",
     "text": [
      "\r",
      "  0%|                                                                                                                                                  | 0/16 [00:00<?, ?it/s]"
     ]
    },
    {
     "name": "stdout",
     "output_type": "stream",
     "text": [
      "\r",
      "Processed 1 / 16 examples:   0%|                                                                                                                       | 0/16 [00:02<?, ?it/s]\r",
      "Processed 1 / 16 examples:   6%|██████▉                                                                                                        | 1/16 [00:02<00:42,  2.83s/it]"
     ]
    },
    {
     "name": "stdout",
     "output_type": "stream",
     "text": [
      "\r",
      "Processed 2 / 16 examples:   6%|██████▉                                                                                                        | 1/16 [00:03<00:42,  2.83s/it]\r",
      "Processed 2 / 16 examples:  12%|█████████████▉                                                                                                 | 2/16 [00:03<00:18,  1.30s/it]"
     ]
    },
    {
     "name": "stdout",
     "output_type": "stream",
     "text": [
      "\r",
      "Processed 3 / 16 examples:  12%|█████████████▉                                                                                                 | 2/16 [00:03<00:18,  1.30s/it]"
     ]
    },
    {
     "name": "stdout",
     "output_type": "stream",
     "text": [
      "\r",
      "Processed 4 / 16 examples:  19%|████████████████████▊                                                                                          | 3/16 [00:03<00:16,  1.30s/it]\r",
      "Processed 4 / 16 examples:  25%|███████████████████████████▊                                                                                   | 4/16 [00:03<00:07,  1.57it/s]"
     ]
    },
    {
     "name": "stdout",
     "output_type": "stream",
     "text": [
      "\r",
      "Processed 5 / 16 examples:  25%|███████████████████████████▊                                                                                   | 4/16 [00:04<00:07,  1.57it/s]\r",
      "Processed 5 / 16 examples:  31%|██████████████████████████████████▋                                                                            | 5/16 [00:04<00:07,  1.57it/s]"
     ]
    },
    {
     "name": "stdout",
     "output_type": "stream",
     "text": [
      "\r",
      "Processed 6 / 16 examples:  31%|██████████████████████████████████▋                                                                            | 5/16 [00:04<00:07,  1.57it/s]"
     ]
    },
    {
     "name": "stdout",
     "output_type": "stream",
     "text": [
      "\r",
      "Processed 7 / 16 examples:  38%|█████████████████████████████████████████▋                                                                     | 6/16 [00:04<00:06,  1.57it/s]\r",
      "Processed 7 / 16 examples:  44%|████████████████████████████████████████████████▌                                                              | 7/16 [00:04<00:03,  2.37it/s]"
     ]
    },
    {
     "name": "stdout",
     "output_type": "stream",
     "text": [
      "\r",
      "Processed 8 / 16 examples:  44%|████████████████████████████████████████████████▌                                                              | 7/16 [00:12<00:03,  2.37it/s]\r",
      "Processed 8 / 16 examples:  50%|███████████████████████████████████████████████████████▌                                                       | 8/16 [00:12<00:17,  2.21s/it]"
     ]
    },
    {
     "name": "stdout",
     "output_type": "stream",
     "text": [
      "\r",
      "Processed 9 / 16 examples:  50%|███████████████████████████████████████████████████████▌                                                       | 8/16 [00:12<00:17,  2.21s/it]\r",
      "Processed 9 / 16 examples:  56%|██████████████████████████████████████████████████████████████▍                                                | 9/16 [00:12<00:12,  1.81s/it]"
     ]
    },
    {
     "name": "stdout",
     "output_type": "stream",
     "text": [
      "\r",
      "Processed 10 / 16 examples:  56%|█████████████████████████████████████████████████████████████▉                                                | 9/16 [00:12<00:12,  1.81s/it]\r",
      "Processed 10 / 16 examples:  62%|████████████████████████████████████████████████████████████████████▏                                        | 10/16 [00:12<00:08,  1.37s/it]"
     ]
    },
    {
     "name": "stdout",
     "output_type": "stream",
     "text": [
      "\r",
      "Processed 11 / 16 examples:  62%|████████████████████████████████████████████████████████████████████▏                                        | 10/16 [00:16<00:08,  1.37s/it]\r",
      "Processed 11 / 16 examples:  69%|██████████████████████████████████████████████████████████████████████████▉                                  | 11/16 [00:16<00:10,  2.11s/it]"
     ]
    },
    {
     "name": "stdout",
     "output_type": "stream",
     "text": [
      "\r",
      "Processed 12 / 16 examples:  69%|██████████████████████████████████████████████████████████████████████████▉                                  | 11/16 [00:18<00:10,  2.11s/it]\r",
      "Processed 12 / 16 examples:  75%|█████████████████████████████████████████████████████████████████████████████████▊                           | 12/16 [00:18<00:07,  1.96s/it]"
     ]
    },
    {
     "name": "stdout",
     "output_type": "stream",
     "text": [
      "\r",
      "Processed 13 / 16 examples:  75%|█████████████████████████████████████████████████████████████████████████████████▊                           | 12/16 [00:19<00:07,  1.96s/it]\r",
      "Processed 13 / 16 examples:  81%|████████████████████████████████████████████████████████████████████████████████████████▌                    | 13/16 [00:19<00:05,  1.76s/it]"
     ]
    },
    {
     "name": "stdout",
     "output_type": "stream",
     "text": [
      "\r",
      "Processed 14 / 16 examples:  81%|████████████████████████████████████████████████████████████████████████████████████████▌                    | 13/16 [00:20<00:05,  1.76s/it]\r",
      "Processed 14 / 16 examples:  88%|███████████████████████████████████████████████████████████████████████████████████████████████▍             | 14/16 [00:20<00:02,  1.29s/it]"
     ]
    },
    {
     "name": "stdout",
     "output_type": "stream",
     "text": [
      "\r",
      "Processed 15 / 16 examples:  88%|███████████████████████████████████████████████████████████████████████████████████████████████▍             | 14/16 [00:21<00:02,  1.29s/it]\r",
      "Processed 15 / 16 examples:  94%|██████████████████████████████████████████████████████████████████████████████████████████████████████▏      | 15/16 [00:21<00:01,  1.32s/it]"
     ]
    },
    {
     "name": "stdout",
     "output_type": "stream",
     "text": [
      "\r",
      "Processed 16 / 16 examples:  94%|██████████████████████████████████████████████████████████████████████████████████████████████████████▏      | 15/16 [00:27<00:01,  1.32s/it]\r",
      "Processed 16 / 16 examples: 100%|█████████████████████████████████████████████████████████████████████████████████████████████████████████████| 16/16 [00:27<00:00,  2.86s/it]\r",
      "Processed 16 / 16 examples: 100%|█████████████████████████████████████████████████████████████████████████████████████████████████████████████| 16/16 [00:27<00:00,  1.75s/it]\n"
     ]
    },
    {
     "name": "stderr",
     "output_type": "stream",
     "text": [
      "2025/06/29 21:39:05 INFO dspy.teleprompt.simba: Scores after 1 batches: [0.25, 0.75, 0.5, 0.0], Best: 0.75\n",
      "\n",
      "2025/06/29 21:39:05 INFO dspy.teleprompt.simba: VALIDATION: Evaluating 2 programs on the full trainset.\n"
     ]
    },
    {
     "name": "stdout",
     "output_type": "stream",
     "text": [
      "\r",
      "  0%|                                                                                                                                                   | 0/8 [00:00<?, ?it/s]\r",
      "Processed 1 / 8 examples:   0%|                                                                                                                         | 0/8 [00:00<?, ?it/s]\r",
      "Processed 2 / 8 examples:  12%|█████████████▉                                                                                                 | 1/8 [00:00<00:00, 6584.46it/s]\r",
      "Processed 3 / 8 examples:  25%|███████████████████████████▊                                                                                   | 2/8 [00:00<00:00, 7358.43it/s]\r",
      "Processed 4 / 8 examples:  38%|█████████████████████████████████████████▋                                                                     | 3/8 [00:00<00:00, 7984.08it/s]\r",
      "Processed 5 / 8 examples:  50%|███████████████████████████████████████████████████████▌                                                       | 4/8 [00:00<00:00, 8388.61it/s]\r",
      "Processed 6 / 8 examples:  62%|█████████████████████████████████████████████████████████████████████▍                                         | 5/8 [00:00<00:00, 8680.26it/s]\r",
      "Processed 7 / 8 examples:  75%|███████████████████████████████████████████████████████████████████████████████████▎                           | 6/8 [00:00<00:00, 8864.33it/s]"
     ]
    },
    {
     "name": "stdout",
     "output_type": "stream",
     "text": [
      "\r",
      "Processed 8 / 8 examples:  88%|█████████████████████████████████████████████████████████████████████████████████████████████████▏             | 7/8 [00:00<00:00, 6087.52it/s]\r",
      "Processed 8 / 8 examples: 100%|███████████████████████████████████████████████████████████████████████████████████████████████████████████████| 8/8 [00:00<00:00, 5776.28it/s]\n"
     ]
    },
    {
     "name": "stderr",
     "output_type": "stream",
     "text": [
      "2025/06/29 21:39:05 INFO dspy.teleprompt.simba: Final trainset scores: [0.5, 0.75], Best: 0.75 (at index 1)\n",
      "\n",
      "\n",
      "\n"
     ]
    }
   ],
   "source": [
    "# Access the underlying DSPy module for optimization\n",
    "optimizer = dspy.SIMBA(\n",
    "    metric=dataset.metric, bsize=4, num_candidates=4, max_steps=1, max_demos=4\n",
    ")\n",
    "compiled_analyze = optimizer.compile(\n",
    "    analyze_data.module, trainset=dataset.train[10:14]\n",
    ")"
   ]
  },
  {
   "cell_type": "code",
   "execution_count": null,
   "id": "iLit",
   "metadata": {},
   "outputs": [],
   "source": [
    "# Wrap the optimized module back into a Pythonic interface\n",
    "analyze_optimized = fd.funnier(compiled_analyze)"
   ]
  },
  {
   "cell_type": "code",
   "execution_count": null,
   "id": "ZHCJ",
   "metadata": {},
   "outputs": [
    {
     "data": {
      "text/html": [
       "<pre style='font-size: 12px'>Predict(Analyze_DataSig(question -&gt; answer\n",
       "    instructions=&#x27;Work on the math problem and give an answer&#x27;\n",
       "    question = Field(annotation=str required=True json_schema_extra={&#x27;desc&#x27;: None, &#x27;__dspy_field_type&#x27;: &#x27;input&#x27;, &#x27;prefix&#x27;: &#x27;Question:&#x27;})\n",
       "    answer = Field(annotation=str required=True json_schema_extra={&#x27;desc&#x27;: &#x27;the answer to the math problem&#x27;, &#x27;__dspy_field_type&#x27;: &#x27;output&#x27;, &#x27;prefix&#x27;: &#x27;Answer:&#x27;})\n",
       "))</pre>"
      ]
     },
     "metadata": {},
     "output_type": "display_data"
    }
   ],
   "source": [
    "compiled_analyze"
   ]
  },
  {
   "cell_type": "code",
   "execution_count": null,
   "id": "ROlb",
   "metadata": {},
   "outputs": [
    {
     "name": "stdout",
     "output_type": "stream",
     "text": [
      "Ground truth: [0,1)\n",
      "Unoptimized answer:\n",
      "To determine the domain of the function \\( q(x) = \\frac{\\sqrt{x}}{\\sqrt{1-x^2}} \\), we need to ensure that both the numerator and the denominator are defined and that the denominator is not zero.\n",
      "\n",
      "1. **Numerator \\(\\sqrt{x}\\):** The expression under the square root must be non-negative:\n",
      "   \\[\n",
      "   x \\geq 0\n",
      "   \\]\n",
      "\n",
      "2. **Denominator \\(\\sqrt{1-x^2}\\):** The expression under the square root must be positive (since division by zero is not allowed):\n",
      "   \\[\n",
      "   1 - x^2 > 0\n",
      "   \\]\n",
      "   This inequality can be rewritten as:\n",
      "   \\[\n",
      "   x^2 < 1\n",
      "   \\]\n",
      "   Which implies:\n",
      "   \\[\n",
      "   -1 < x < 1\n",
      "   \\]\n",
      "\n",
      "Combining these two conditions, we have:\n",
      "\\[\n",
      "x \\geq 0 \\quad \\text{and} \\quad -1 < x < 1\n",
      "\\]\n",
      "This simplifies to:\n",
      "\\[\n",
      "0 \\leq x < 1\n",
      "\\]\n",
      "\n",
      "Therefore, the domain of \\( q(x) \\) is the interval \\([0, 1)\\).\n",
      "\n",
      "\\[\n",
      "\\boxed{[0, 1)}\n",
      "\\]\n",
      "Optimized answer:\n",
      "(0, 1)\n",
      "--------------\n",
      "\n",
      "Ground truth: 2015\n",
      "Unoptimized answer:\n",
      "To solve the problem, we first analyze the given condition:\n",
      "\n",
      "\\[ T(b+1) - T(b) = T(x) \\]\n",
      "\n",
      "Substituting the formula for triangular numbers:\n",
      "\n",
      "\\[ \\frac{(b+1)(b+2)}{2} - \\frac{b(b+1)}{2} = \\frac{x(x+1)}{2} \\]\n",
      "\n",
      "Simplify the left-hand side:\n",
      "\n",
      "\\[ \\frac{(b+1)(b+2 - b)}{2} = \\frac{x(x+1)}{2} \\]\n",
      "\\[ \\frac{(b+1)(2)}{2} = \\frac{x(x+1)}{2} \\]\n",
      "\\[ b + 1 = \\frac{x(x+1)}{2} \\]\n",
      "\n",
      "Thus, we have:\n",
      "\n",
      "\\[ 2(b + 1) = x(x + 1) \\]\n",
      "\n",
      "This implies that \\( 2(b + 1) \\) must be the product of two consecutive integers \\( x \\) and \\( x + 1 \\). \n",
      "\n",
      "We need to find the smallest integer \\( b > 2011 \\) such that \\( 2(b + 1) \\) is a product of two consecutive integers. \n",
      "\n",
      "First, solve for \\( b \\):\n",
      "\n",
      "\\[ b = \\frac{x(x + 1)}{2} - 1 \\]\n",
      "\n",
      "We need \\( b > 2011 \\), so:\n",
      "\n",
      "\\[ \\frac{x(x + 1)}{2} - 1 > 2011 \\]\n",
      "\\[ \\frac{x(x + 1)}{2} > 2012 \\]\n",
      "\\[ x(x + 1) > 4024 \\]\n",
      "\n",
      "Find the smallest integer \\( x \\) such that \\( x(x + 1) > 4024 \\). \n",
      "\n",
      "Testing \\( x = 63 \\):\n",
      "\n",
      "\\[ 63 \\times 64 = 4032 > 4024 \\]\n",
      "\n",
      "Thus, the smallest \\( x \\) satisfying the inequality is \\( x = 63 \\). \n",
      "\n",
      "Now, compute \\( b \\):\n",
      "\n",
      "\\[ b = \\frac{63 \\times 64}{2} - 1 = 2016 - 1 = 2015 \\]\n",
      "\n",
      "Check if \\( b > 2011 \\): \\( 2015 > 2011 \\), which is true. \n",
      "\n",
      "Therefore, the smallest integer \\( b > 2011 \\) satisfying the condition is \\( \\boxed{2015} \\).\n",
      "Optimized answer:\n",
      "2016\n",
      "--------------\n",
      "\n",
      "Ground truth: \\$18.90\n",
      "Unoptimized answer:\n",
      "Let's denote the cost of the paint per square inch as \\( p \\) and the cost of the concrete per cubic inch as \\( c \\).\n",
      "\n",
      "For a 1 inch cube:\n",
      "- Surface area = \\( 6 \\times 1^2 = 6 \\) square inches\n",
      "- Volume = \\( 1^3 = 1 \\) cubic inch\n",
      "- Total cost: \\( 6p + c = 1.30 \\) (Equation 1)\n",
      "\n",
      "For a 2 inch cube:\n",
      "- Surface area = \\( 6 \\times 2^2 = 24 \\) square inches\n",
      "- Volume = \\( 2^3 = 8 \\) cubic inches\n",
      "- Total cost: \\( 24p + 8c = 6.80 \\) (Equation 2)\n",
      "\n",
      "Now, we solve the system of equations:\n",
      "From Equation 1: \\( c = 1.30 - 6p \\)\n",
      "\n",
      "Substitute \\( c \\) into Equation 2:\n",
      "\\( 24p + 8(1.30 - 6p) = 6.80 \\)\n",
      "\\( 24p + 10.40 - 48p = 6.80 \\)\n",
      "\\( -24p + 10.40 = 6.80 \\)\n",
      "\\( -24p = -3.60 \\)\n",
      "\\( p = 0.15 \\)\n",
      "\n",
      "Now, substitute \\( p = 0.15 \\) back into Equation 1:\n",
      "\\( 6(0.15) + c = 1.30 \\)\n",
      "\\( 0.90 + c = 1.30 \\)\n",
      "\\( c = 0.40 \\)\n",
      "\n",
      "Now, for a 3 inch cube:\n",
      "- Surface area = \\( 6 \\times 3^2 = 54 \\) square inches\n",
      "- Volume = \\( 3^3 = 27 \\) cubic inches\n",
      "- Total cost: \\( 54p + 27c = 54(0.15) + 27(0.40) = 8.10 + 10.80 = 18.90 \\)\n",
      "\n",
      "The cost of a 3 inch cube is \\(\\$18.90\\).\n",
      "Optimized answer:\n",
      "$17.10\n",
      "--------------\n",
      "\n",
      "Ground truth: 81\n",
      "Unoptimized answer:\n",
      "109\n",
      "Optimized answer:\n",
      "109\n",
      "--------------\n",
      "\n"
     ]
    }
   ],
   "source": [
    "for q in dataset.train[20:24]:\n",
    "    print(\n",
    "        f\"Ground truth: {q['answer']}\\nUnoptimized answer:\\n{analyze_data(q['question'])}\\nOptimized answer:\\n{analyze_optimized(q['question'])}\\n--------------\\n\"\n",
    "    )"
   ]
  },
  {
   "cell_type": "code",
   "execution_count": null,
   "id": "qnkX",
   "metadata": {},
   "outputs": [],
   "source": [
    "compiled_analyze.save(\"output/analyze_optimized.json\")"
   ]
  },
  {
   "cell_type": "code",
   "execution_count": null,
   "id": "TqIu",
   "metadata": {},
   "outputs": [
    {
     "name": "stdout",
     "output_type": "stream",
     "text": [
      "{'traces': [], 'train': [], 'demos': [{'augmented': True, 'question': 'What is the smallest two-digit positive integer such that the product of its two digits is one-half the integer?', 'answer': '36'}], 'signature': {'instructions': 'Work on the math problem and give an answer', 'fields': [{'prefix': 'Question:', 'description': None}, {'prefix': 'Answer:', 'description': 'the answer to the math problem'}]}, 'lm': None, 'metadata': {'dependency_versions': {'python': '3.12', 'dspy': '2.6.27', 'cloudpickle': '3.1'}}}\n"
     ]
    }
   ],
   "source": [
    "# inspect the content of output/analyze_optimized.json\n",
    "import json\n",
    "\n",
    "with open(\"output/analyze_optimized.json\", \"r\") as file:\n",
    "    data = json.load(file)\n",
    "    print(data)"
   ]
  },
  {
   "cell_type": "code",
   "execution_count": null,
   "id": "Vxnm",
   "metadata": {},
   "outputs": [
    {
     "name": "stdout",
     "output_type": "stream",
     "text": [
      "\r",
      "  0%|                                                                                                                                                   | 0/4 [00:00<?, ?it/s]"
     ]
    },
    {
     "name": "stdout",
     "output_type": "stream",
     "text": [
      "\r",
      "Average Metric: 0.00 / 1 (0.0%):   0%|                                                                                                                  | 0/4 [00:01<?, ?it/s]\r",
      "Average Metric: 0.00 / 1 (0.0%):  25%|██████████████████████████▌                                                                               | 1/4 [00:01<00:03,  1.09s/it]"
     ]
    },
    {
     "name": "stdout",
     "output_type": "stream",
     "text": [
      "\r",
      "Average Metric: 1.00 / 2 (50.0%):  25%|██████████████████████████▎                                                                              | 1/4 [00:01<00:03,  1.09s/it]\r",
      "Average Metric: 1.00 / 2 (50.0%):  50%|████████████████████████████████████████████████████▌                                                    | 2/4 [00:01<00:01,  1.51it/s]"
     ]
    },
    {
     "name": "stdout",
     "output_type": "stream",
     "text": [
      "\r",
      "Average Metric: 2.00 / 3 (66.7%):  50%|████████████████████████████████████████████████████▌                                                    | 2/4 [00:01<00:01,  1.51it/s]\r",
      "Average Metric: 2.00 / 3 (66.7%):  75%|██████████████████████████████████████████████████████████████████████████████▊                          | 3/4 [00:01<00:00,  2.11it/s]"
     ]
    },
    {
     "name": "stdout",
     "output_type": "stream",
     "text": [
      "\r",
      "Average Metric: 2.00 / 4 (50.0%):  75%|██████████████████████████████████████████████████████████████████████████████▊                          | 3/4 [00:02<00:00,  2.11it/s]\r",
      "Average Metric: 2.00 / 4 (50.0%): 100%|█████████████████████████████████████████████████████████████████████████████████████████████████████████| 4/4 [00:02<00:00,  2.45it/s]\r",
      "Average Metric: 2.00 / 4 (50.0%): 100%|█████████████████████████████████████████████████████████████████████████████████████████████████████████| 4/4 [00:02<00:00,  1.99it/s]\n"
     ]
    },
    {
     "name": "stderr",
     "output_type": "stream",
     "text": [
      "2025/06/29 21:41:58 INFO dspy.evaluate.evaluate: Average Metric: 2 / 4 (50.0%)\n"
     ]
    }
   ],
   "source": [
    "devset = dataset.dev[20:24]\n",
    "evaluate = dspy.Evaluate(devset=devset, metric=dataset.metric, num_threads=4, display_progress=True, display_table=0, max_errors=999)\n",
    "evaluate(compiled_analyze)"
   ]
  }
 ],
 "metadata": {},
 "nbformat": 4,
 "nbformat_minor": 5
}
